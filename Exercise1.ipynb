{
  "nbformat": 4,
  "nbformat_minor": 0,
  "metadata": {
    "colab": {
      "provenance": [],
      "collapsed_sections": [],
      "toc_visible": true,
      "authorship_tag": "ABX9TyMsl1Hin2jK9JvSDhRQH0Dd",
      "include_colab_link": true
    },
    "kernelspec": {
      "name": "python3",
      "display_name": "Python 3"
    },
    "language_info": {
      "name": "python"
    }
  },
  "cells": [
    {
      "cell_type": "markdown",
      "metadata": {
        "id": "view-in-github",
        "colab_type": "text"
      },
      "source": [
        "<a href=\"https://colab.research.google.com/github/AEngly/DeepLearning02456/blob/main/Exercise1.ipynb\" target=\"_parent\"><img src=\"https://colab.research.google.com/assets/colab-badge.svg\" alt=\"Open In Colab\"/></a>"
      ]
    },
    {
      "cell_type": "markdown",
      "source": [
        "**Homework 1**\n",
        "\n",
        "Hand-in: 05/09-2022"
      ],
      "metadata": {
        "id": "talZA5K34ttn"
      }
    },
    {
      "cell_type": "markdown",
      "source": [
        "**Exercise a)**\n",
        "\n",
        "By insertion and expansion the j'th output $y_{j}$ is\n",
        "\n",
        "\\begin{align}\n",
        "y_{j} &= h_{2}(a_{j}^{(2)}) \\\\\n",
        "      &= h_{2}(\\sum_{i = 0}^{M} w_{ji}^{(2)} z_{i}^{(1)}) \\\\\n",
        "      &= h_{2}(\\sum_{i = 0}^{M} w_{ji}^{(2)} h_{1}(a_{i}^{(1)})) \\\\\n",
        "      &= h_{2}(\\sum_{i = 0}^{M} w_{ji}^{(2)} h_{1}(\\sum_{d = 0}^{D} w_{id}^{(1)} x_{d})) \\\\\n",
        "\\end{align}\n",
        "\n",
        "where the superscripts (1) and (2) denote the weight matrices applied to respectively the input layer and the hidden layer.\n",
        "\n",
        "The matrix form is\n",
        "\n",
        "$$ \\textbf{y} = h_{2}(\\Theta^{(2)} h_{1}(\\Theta^{(1)} \\textbf{x})) $$\n",
        "\n",
        "**Exercise b)**\n",
        "\n",
        "By insertion and expansion the j'th output $y_{j}$ is\n",
        "\n",
        "\\begin{align}\n",
        "y_{j} &= h_{2}(a_{j}^{(2)}) \\\\\n",
        "      &= h_{2}(\\sum_{i = 0}^{M} w_{ji}^{(2)} z_{i}^{(1)}) \\\\\n",
        "      &= h_{2}(\\sum_{i = 0}^{M} w_{ji}^{(2)} h_{1}(a_{i}^{(1)})) \\\\\n",
        "      &= h_{2}(\\sum_{i = 0}^{M} w_{ji}^{(2)} h_{1}(\\sum_{d = 0}^{D} w_{id}^{(1)} x_{d})) \\\\\n",
        "\\end{align}\n",
        "\n",
        "where the superscripts (1) and (2) denote the weight matrices applied to respectively the input layer and the hidden layer."
      ],
      "metadata": {
        "id": "Jinx_LhVCIcO"
      }
    },
    {
      "cell_type": "code",
      "source": [],
      "metadata": {
        "id": "rJTnF7sGER3R"
      },
      "execution_count": null,
      "outputs": []
    }
  ]
}